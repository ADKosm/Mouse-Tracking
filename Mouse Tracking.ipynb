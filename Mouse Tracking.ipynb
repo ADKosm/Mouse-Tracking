{
 "cells": [
  {
   "cell_type": "code",
   "execution_count": 1,
   "metadata": {
    "collapsed": false
   },
   "outputs": [],
   "source": [
    "import json\n",
    "import os\n",
    "import shutil\n",
    "import pandas as pd\n",
    "import matplotlib.pyplot as plt\n",
    "from math import copysign as sgn\n",
    "%matplotlib inline  "
   ]
  },
  {
   "cell_type": "code",
   "execution_count": 2,
   "metadata": {
    "collapsed": false
   },
   "outputs": [],
   "source": [
    "# data manipulation functions\n",
    "def number_of_tests():\n",
    "    return len(os.listdir('tests'))\n",
    "\n",
    "def clear_tests():\n",
    "    for i in os.listdir('tests'):\n",
    "        os.remove('tests/{0}'.format(i))\n",
    "\n",
    "def load_all_tests(num):\n",
    "    test_name = 1\n",
    "    for root, dirs, files in os.walk('all_tests/test_{0}'.format(num)):\n",
    "        for file in files:\n",
    "            if file != '1.test':\n",
    "                shutil.copyfile('{0}/{1}'.format(root, file), 'tests/{0}.test'.format(test_name))\n",
    "                test_name += 1\n",
    "\n",
    "def load_test(num):\n",
    "    jsObj = open(\"tests/{0}.test\".format(num), \"r\")\n",
    "    testObj = json.load(jsObj)\n",
    "    jsObj.close()\n",
    "    return testObj"
   ]
  },
  {
   "cell_type": "code",
   "execution_count": 20,
   "metadata": {
    "collapsed": false
   },
   "outputs": [],
   "source": [
    "# parameters extracting\n",
    "\n",
    "# -------- Functions for static experiments\n",
    "def distance(x1, y1, x2, y2):\n",
    "    return ((x1-x2)**2 + (y1-y2)**2)**(1/2)\n",
    "\n",
    "def velocity(arr, num):\n",
    "    try:\n",
    "        return distance(arr[num]['x'], arr[num]['y'], arr[num-1]['x'], arr[num-1]['y']) / (arr[num]['time'] - arr[num-1]['time'])\n",
    "    except:\n",
    "        return 0\n",
    "\n",
    "def first_distance(obj):\n",
    "    return distance(obj['ballX'], obj['ballY'], obj['data'][0]['x'], obj['data'][0]['y'])\n",
    "\n",
    "def searching_delay(obj):\n",
    "    garanted_find = min(20, len(obj['data'])-1)\n",
    "    barrier_velocity = 0.5 #px/msec\n",
    "    for i in range(garanted_find):\n",
    "        if velocity(obj['data'], i+1) > barrier_velocity:\n",
    "            return obj['data'][i+1]['time']\n",
    "    return obj['data'][garanted_find]['time']\n",
    "\n",
    "def all_distance(obj):\n",
    "    result = 0\n",
    "    for i in range(1, len(obj['data'])):\n",
    "        result += distance(obj['data'][i]['x'], obj['data'][i]['y'], obj['data'][i-1]['x'], obj['data'][i-1]['y'])\n",
    "    return result\n",
    "\n",
    "def all_time(obj):\n",
    "    return obj['data'][-1]['time']\n",
    "\n",
    "def average_velocity(obj):\n",
    "    return all_distance(obj) / all_time(obj)\n",
    "\n",
    "def max_deviation(obj):\n",
    "    maximum = 0\n",
    "    \n",
    "    x1, y1 = (obj['data'][0]['x'], obj['data'][0]['y'])\n",
    "    x2, y2 = (obj['ballX'], obj['ballY'])\n",
    "    \n",
    "    A = (y2-y1)/(x1*y2-x2*y1)\n",
    "    B = (x1-x2)/(x1*y2-x2*y1)\n",
    "    H = lambda v: abs(A*v[0]+B*v[1]-1)/( (A**2 + B**2)**(1/2) ) #x = v[0], y = v[1]\n",
    "    \n",
    "    for i in obj['data']:\n",
    "        maximum = max(maximum, H([i['x'], i['y']]))\n",
    "    \n",
    "    return maximum\n",
    "\n",
    "def inertion(obj): # length, time\n",
    "    x0, y0, R = (obj['ballX'], obj['ballY'], obj['ballSize'])\n",
    "    max_len = 0\n",
    "    in_ball = lambda x, y: (x-x0)**2+(y-y0)**2 < max(R, 50)**2\n",
    "    \n",
    "    first_intersect = -1\n",
    "    for i in range(len(obj['data'])):\n",
    "        if in_ball(obj['data'][i]['x'], obj['data'][i]['y']):\n",
    "            first_intersect = i\n",
    "            break\n",
    "    if first_intersect < 0:\n",
    "        return (0, 0)\n",
    "    \n",
    "    point = first_intersect # первое пересечение с шариком\n",
    "    while point < len(obj['data']) and in_ball(obj['data'][point]['x'], obj['data'][point]['y']):\n",
    "        point += 1\n",
    "    if point == len(obj['data']):\n",
    "        return (0, 0)\n",
    "    \n",
    "    second_intersect = point # второе пересечение - вылет из шарика из-за инерции\n",
    "    while point < len(obj['data']) and not in_ball(obj['data'][point]['x'], obj['data'][point]['y']):\n",
    "        max_len = max(max_len, distance(obj['data'][point]['x'], obj['data'][point]['y'], x0, y0))\n",
    "        point += 1\n",
    "    if point == len(obj['data']):\n",
    "        return (max_len, obj['data'][second_intersect]['time']-obj['data'][first_intersect]['time'])\n",
    "    \n",
    "    third_intersect = point # третье пересечение - возвражение обратно в шарик (корректировка)\n",
    "    return (max_len, obj['data'][third_intersect]['time']-obj['data'][second_intersect]['time'])\n",
    "\n",
    "def right_or_left(obj):\n",
    "    if obj['data'][0]['x'] > obj['ballX']:\n",
    "        return 1\n",
    "    else:\n",
    "        return -1\n",
    "    \n",
    "#----- Functions for dynamic experiments\n",
    "\n",
    "def max_deviation_d(obj): # +, если прошел по верху, -, если прошел по низу\n",
    "    maximum = 0\n",
    "    minimum = 0\n",
    "    \n",
    "    x1, y1 = (obj['data'][0]['x'], obj['data'][0]['y'])\n",
    "    x2, y2 = (lambda n: obj['ballData'][n]['x'], lambda n: obj['ballData'][n]['y'])\n",
    "    \n",
    "    A = lambda n: (y2(n)-y1)/(x1*y2(n)-x2(n)*y1)\n",
    "    B = lambda n: (x1-x2(n))/(x1*y2(n)-x2(n)*y1)\n",
    "    H = lambda v, n: (A(n)*v[0]+B(n)*v[1]-1)/( (A(n)**2 + B(n)**2)**(1/2) ) #x = v[0], y = v[1]\n",
    "    \n",
    "    for i in range(len(obj['data'])):\n",
    "        h = H([obj['data'][i]['x'], obj['data'][i]['y']], i)\n",
    "        maximum = max(maximum, h)\n",
    "        minimum = min(minimum, h)\n",
    "    \n",
    "    if(abs(minimum) > maximum):\n",
    "        return minimum\n",
    "    else:\n",
    "        return maximum\n",
    "\n",
    "def ball_velocity(obj):\n",
    "    try:\n",
    "        return distance(obj['ballData'][0]['x'], obj['ballData'][0]['y'], obj['ballData'][1]['x'], obj['ballData'][1]['y'])/(obj['ballData'][1]['time']-obj['ballData'][0]['time'])\n",
    "    except:\n",
    "        return 0\n",
    "    \n",
    "def correl(obj):\n",
    "    bx, by = (obj['ballData'][1]['x']-obj['ballData'][0]['x'], obj['ballData'][1]['y']-obj['ballData'][0]['y'])\n",
    "    x, y = (obj['data'][1]['x']-obj['data'][0]['x'], obj['data'][1]['y']-obj['data'][0]['y'])\n",
    "    return sgn(1, bx*x + by*y)\n",
    "\n",
    "def scalar(obj, i, j):\n",
    "    return (obj['data'][i]['x']-obj['data'][i-1]['x'])*(obj['data'][j]['x']-obj['data'][j-1]['x']) + (obj['data'][i]['y']-obj['data'][i-1]['y'])*(obj['data'][j]['y']-obj['data'][j-1]['y'])\n",
    "\n",
    "def scal_cos(obj, i, j):\n",
    "    try:\n",
    "        return scalar(obj, i, j)/(scalar(obj, i, i)*scalar(obj, j, j))**(1/2)\n",
    "    except:\n",
    "        return 0\n",
    "\n",
    "def deviation_coef(obj, i, j):\n",
    "    return 1+( abs( scal_cos(obj, i, j) -1)/2 )**(1/2)\n",
    "\n",
    "def delay_d(obj):\n",
    "    barrier_value = 0.3\n",
    "    for i in range(1, len(obj['data'])-1):\n",
    "        if velocity(obj['data'], i+1)*deviation_coef(obj, i+1, i) > barrier_value:\n",
    "            return obj['data'][i]['time']\n",
    "    return 0 # пользователь не подал признаков того, что он нашел, значит в предположении, он сразу его увидел\n",
    "\n",
    "def inertion_d(obj): # length, time\n",
    "    x0, y0, R = (lambda x: obj['ballData'][x]['x'], lambda x: obj['ballData'][x]['y'], obj['ballSize'])\n",
    "    max_len = 0\n",
    "    in_ball = lambda x, y, p: (x-x0(p))**2+(y-y0(p))**2 < max(R, 50)**2\n",
    "    \n",
    "    first_intersect = -1\n",
    "    for i in range(len(obj['data'])):\n",
    "        if in_ball(obj['data'][i]['x'], obj['data'][i]['y'], i):\n",
    "            first_intersect = i\n",
    "            break\n",
    "    if first_intersect < 0:\n",
    "        return (0, 0)\n",
    "    \n",
    "    point = first_intersect # первое пересечение с шариком\n",
    "    while point < len(obj['data']) and in_ball(obj['data'][point]['x'], obj['data'][point]['y'], point):\n",
    "        point += 1\n",
    "    if point == len(obj['data']):\n",
    "        return (0, 0)\n",
    "    \n",
    "    second_intersect = point # второе пересечение - вылет из шарика из-за инерции\n",
    "    while point < len(obj['data']) and not in_ball(obj['data'][point]['x'], obj['data'][point]['y'], point):\n",
    "        max_len = max(max_len, distance(obj['data'][point]['x'], obj['data'][point]['y'], x0(point), y0(point)))\n",
    "        point += 1\n",
    "    if point == len(obj['data']):\n",
    "        return (max_len, obj['data'][second_intersect]['time']-obj['data'][first_intersect]['time'])\n",
    "    \n",
    "    third_intersect = point # третье пересечение - возвражение обратно в шарик (корректировка)\n",
    "    return (max_len, obj['data'][third_intersect]['time']-obj['data'][second_intersect]['time'])\n",
    "\n",
    "def relative_coords(obj):\n",
    "    return (abs(obj['ballX']-obj['data'][0]['x']), abs(obj['ballY']-obj['data'][0]['y']))\n",
    "#----- Agreration Data -----------\n",
    "\n",
    "# Перед тем как использовать эту функцию, убедитесь, что в папку all_tests загруженны все ваши тесты\n",
    "def get_test_data(number):\n",
    "    clear_tests()\n",
    "    load_all_tests(number)\n",
    "    raw_data = [load_test(x) for x in range(1, number_of_tests())]\n",
    "    functions = [\n",
    "        [lambda x: x['ballX'], lambda x: x['ballY'], lambda x: x['ballSize'], right_or_left, first_distance, all_distance, searching_delay, all_time, average_velocity, max_deviation, lambda x: inertion(x)[0], lambda x: inertion(x)[1], lambda x: x['shots']],\n",
    "        [lambda x: x['ballX'], lambda x: x['ballY'], lambda x: x['ballSize'], first_distance, ball_velocity, correl, all_distance, all_time, average_velocity, lambda x: abs(max_deviation_d(x)), lambda x: sgn(1, max_deviation_d(x)), delay_d, lambda x: inertion_d(x)[0], lambda x: inertion_d(x)[1]]\n",
    "    ]\n",
    "    cols = [\n",
    "        ['BallX', 'BallY', 'BallSize', 'RorL', 'FirstDist', 'AllDist', 'Delay', 'AllTime', 'AverVelocity', 'MaxDev', 'InerLen', 'InerTime', 'Shots'],\n",
    "        ['RBallX', 'RBallY', 'BallSize', 'FirstDist', 'BallVelocity', 'Correlation', 'AllDist', 'AllTime', 'AverVelocity', 'AbsMaxDev', 'UpOrDown', 'Delay', 'InerLen', 'InerTime']\n",
    "    ]\n",
    "    return pd.DataFrame.from_records([[f(x) for f in functions[number-1]] for x in raw_data], columns=cols[number-1])"
   ]
  },
  {
   "cell_type": "code",
   "execution_count": 4,
   "metadata": {
    "collapsed": false,
    "scrolled": true
   },
   "outputs": [
    {
     "name": "stdout",
     "output_type": "stream",
     "text": [
      "207.21218597588154\n",
      "502\n",
      "0.4127732788364174\n",
      "35.25722635782784\n",
      "(0, 0)\n"
     ]
    }
   ],
   "source": [
    "a = load_test(20)\n",
    "print(all_distance(a))\n",
    "print(all_time(a))\n",
    "print(average_velocity(a))\n",
    "print(max_deviation(a))\n",
    "print(inertion(a))"
   ]
  },
  {
   "cell_type": "code",
   "execution_count": 18,
   "metadata": {
    "collapsed": false,
    "scrolled": true
   },
   "outputs": [
    {
     "data": {
      "text/html": [
       "<div>\n",
       "<table border=\"1\" class=\"dataframe\">\n",
       "  <thead>\n",
       "    <tr style=\"text-align: right;\">\n",
       "      <th></th>\n",
       "      <th>BallX</th>\n",
       "      <th>BallY</th>\n",
       "      <th>BallSize</th>\n",
       "      <th>RorL</th>\n",
       "      <th>FirstDist</th>\n",
       "      <th>AllDist</th>\n",
       "      <th>Delay</th>\n",
       "      <th>AllTime</th>\n",
       "      <th>AverVelocity</th>\n",
       "      <th>MaxDev</th>\n",
       "      <th>InerLen</th>\n",
       "      <th>InerTime</th>\n",
       "      <th>Shots</th>\n",
       "    </tr>\n",
       "  </thead>\n",
       "  <tbody>\n",
       "    <tr>\n",
       "      <th>0</th>\n",
       "      <td>999</td>\n",
       "      <td>262</td>\n",
       "      <td>89</td>\n",
       "      <td>-1</td>\n",
       "      <td>556.742310</td>\n",
       "      <td>650.458519</td>\n",
       "      <td>212</td>\n",
       "      <td>644</td>\n",
       "      <td>1.010029</td>\n",
       "      <td>61.832915</td>\n",
       "      <td>0.000000</td>\n",
       "      <td>0</td>\n",
       "      <td>1</td>\n",
       "    </tr>\n",
       "    <tr>\n",
       "      <th>1</th>\n",
       "      <td>944</td>\n",
       "      <td>142</td>\n",
       "      <td>121</td>\n",
       "      <td>-1</td>\n",
       "      <td>299.006689</td>\n",
       "      <td>1010.566589</td>\n",
       "      <td>289</td>\n",
       "      <td>2255</td>\n",
       "      <td>0.448145</td>\n",
       "      <td>80.252385</td>\n",
       "      <td>0.000000</td>\n",
       "      <td>0</td>\n",
       "      <td>1</td>\n",
       "    </tr>\n",
       "    <tr>\n",
       "      <th>2</th>\n",
       "      <td>1114</td>\n",
       "      <td>488</td>\n",
       "      <td>141</td>\n",
       "      <td>-1</td>\n",
       "      <td>831.892421</td>\n",
       "      <td>1372.881169</td>\n",
       "      <td>160</td>\n",
       "      <td>1078</td>\n",
       "      <td>1.273545</td>\n",
       "      <td>108.612601</td>\n",
       "      <td>307.026058</td>\n",
       "      <td>386</td>\n",
       "      <td>1</td>\n",
       "    </tr>\n",
       "    <tr>\n",
       "      <th>4</th>\n",
       "      <td>695</td>\n",
       "      <td>119</td>\n",
       "      <td>37</td>\n",
       "      <td>-1</td>\n",
       "      <td>569.227547</td>\n",
       "      <td>684.868823</td>\n",
       "      <td>229</td>\n",
       "      <td>993</td>\n",
       "      <td>0.689697</td>\n",
       "      <td>140.179442</td>\n",
       "      <td>0.000000</td>\n",
       "      <td>0</td>\n",
       "      <td>1</td>\n",
       "    </tr>\n",
       "    <tr>\n",
       "      <th>5</th>\n",
       "      <td>936</td>\n",
       "      <td>257</td>\n",
       "      <td>6</td>\n",
       "      <td>1</td>\n",
       "      <td>453.045252</td>\n",
       "      <td>562.351809</td>\n",
       "      <td>167</td>\n",
       "      <td>1707</td>\n",
       "      <td>0.329439</td>\n",
       "      <td>58.678465</td>\n",
       "      <td>0.000000</td>\n",
       "      <td>0</td>\n",
       "      <td>1</td>\n",
       "    </tr>\n",
       "    <tr>\n",
       "      <th>6</th>\n",
       "      <td>873</td>\n",
       "      <td>310</td>\n",
       "      <td>87</td>\n",
       "      <td>-1</td>\n",
       "      <td>826.087768</td>\n",
       "      <td>955.567516</td>\n",
       "      <td>205</td>\n",
       "      <td>1037</td>\n",
       "      <td>0.921473</td>\n",
       "      <td>180.215718</td>\n",
       "      <td>0.000000</td>\n",
       "      <td>0</td>\n",
       "      <td>1</td>\n",
       "    </tr>\n",
       "    <tr>\n",
       "      <th>7</th>\n",
       "      <td>126</td>\n",
       "      <td>583</td>\n",
       "      <td>97</td>\n",
       "      <td>1</td>\n",
       "      <td>175.328264</td>\n",
       "      <td>159.137026</td>\n",
       "      <td>305</td>\n",
       "      <td>566</td>\n",
       "      <td>0.281161</td>\n",
       "      <td>46.290312</td>\n",
       "      <td>0.000000</td>\n",
       "      <td>0</td>\n",
       "      <td>1</td>\n",
       "    </tr>\n",
       "    <tr>\n",
       "      <th>8</th>\n",
       "      <td>1168</td>\n",
       "      <td>56</td>\n",
       "      <td>171</td>\n",
       "      <td>1</td>\n",
       "      <td>262.617593</td>\n",
       "      <td>359.793167</td>\n",
       "      <td>151</td>\n",
       "      <td>643</td>\n",
       "      <td>0.559554</td>\n",
       "      <td>147.971808</td>\n",
       "      <td>0.000000</td>\n",
       "      <td>0</td>\n",
       "      <td>1</td>\n",
       "    </tr>\n",
       "    <tr>\n",
       "      <th>9</th>\n",
       "      <td>1092</td>\n",
       "      <td>425</td>\n",
       "      <td>42</td>\n",
       "      <td>-1</td>\n",
       "      <td>71.449283</td>\n",
       "      <td>104.469083</td>\n",
       "      <td>553</td>\n",
       "      <td>1023</td>\n",
       "      <td>0.102120</td>\n",
       "      <td>17.508923</td>\n",
       "      <td>0.000000</td>\n",
       "      <td>0</td>\n",
       "      <td>1</td>\n",
       "    </tr>\n",
       "    <tr>\n",
       "      <th>10</th>\n",
       "      <td>887</td>\n",
       "      <td>164</td>\n",
       "      <td>86</td>\n",
       "      <td>1</td>\n",
       "      <td>186.010752</td>\n",
       "      <td>224.697427</td>\n",
       "      <td>35</td>\n",
       "      <td>599</td>\n",
       "      <td>0.375121</td>\n",
       "      <td>52.394821</td>\n",
       "      <td>0.000000</td>\n",
       "      <td>0</td>\n",
       "      <td>1</td>\n",
       "    </tr>\n",
       "  </tbody>\n",
       "</table>\n",
       "</div>"
      ],
      "text/plain": [
       "    BallX  BallY  BallSize  RorL   FirstDist      AllDist  Delay  AllTime  \\\n",
       "0     999    262        89    -1  556.742310   650.458519    212      644   \n",
       "1     944    142       121    -1  299.006689  1010.566589    289     2255   \n",
       "2    1114    488       141    -1  831.892421  1372.881169    160     1078   \n",
       "4     695    119        37    -1  569.227547   684.868823    229      993   \n",
       "5     936    257         6     1  453.045252   562.351809    167     1707   \n",
       "6     873    310        87    -1  826.087768   955.567516    205     1037   \n",
       "7     126    583        97     1  175.328264   159.137026    305      566   \n",
       "8    1168     56       171     1  262.617593   359.793167    151      643   \n",
       "9    1092    425        42    -1   71.449283   104.469083    553     1023   \n",
       "10    887    164        86     1  186.010752   224.697427     35      599   \n",
       "\n",
       "    AverVelocity      MaxDev     InerLen  InerTime  Shots  \n",
       "0       1.010029   61.832915    0.000000         0      1  \n",
       "1       0.448145   80.252385    0.000000         0      1  \n",
       "2       1.273545  108.612601  307.026058       386      1  \n",
       "4       0.689697  140.179442    0.000000         0      1  \n",
       "5       0.329439   58.678465    0.000000         0      1  \n",
       "6       0.921473  180.215718    0.000000         0      1  \n",
       "7       0.281161   46.290312    0.000000         0      1  \n",
       "8       0.559554  147.971808    0.000000         0      1  \n",
       "9       0.102120   17.508923    0.000000         0      1  \n",
       "10      0.375121   52.394821    0.000000         0      1  "
      ]
     },
     "execution_count": 18,
     "metadata": {},
     "output_type": "execute_result"
    }
   ],
   "source": [
    "data1 = get_test_data(1)\n",
    "data1 = data1[data1.AllTime < 5000]\n",
    "data1[:10]"
   ]
  },
  {
   "cell_type": "code",
   "execution_count": 19,
   "metadata": {
    "collapsed": false
   },
   "outputs": [
    {
     "data": {
      "text/plain": [
       "<matplotlib.axes._subplots.AxesSubplot at 0x7f0a764d9438>"
      ]
     },
     "execution_count": 19,
     "metadata": {},
     "output_type": "execute_result"
    },
    {
     "data": {
      "image/png": "[encoded data removed]",
      "text/plain": [
       "<matplotlib.figure.Figure at 0x7f0a7514e710>"
      ]
     },
     "metadata": {},
     "output_type": "display_data"
    },
    {
     "data": {
      "image/png": "[encoded data removed]",
      "text/plain": [
       "<matplotlib.figure.Figure at 0x7f0a7514e630>"
      ]
     },
     "metadata": {},
     "output_type": "display_data"
    },
    {
     "data": {
      "image/png": "[encoded data removed]",
      "text/plain": [
       "<matplotlib.figure.Figure at 0x7f0a76531630>"
      ]
     },
     "metadata": {},
     "output_type": "display_data"
    },
    {
     "data": {
      "image/png": "[encoded data removed]",
      "text/plain": [
       "<matplotlib.figure.Figure at 0x7f0a765315c0>"
      ]
     },
     "metadata": {},
     "output_type": "display_data"
    }
   ],
   "source": [
    "# data1.plot.scatter(x='FirstDist', y='AllDist')\n",
    "# data1.plot.scatter(x='FirstDist', y='AverVelocity')\n",
    "# data1.plot.scatter(x='BallSize', y='AverVelocity')\n",
    "# data1.plot.scatter(x='FirstDist', y='MaxDev')\n",
    "#data1.plot.scatter(x='FirstDist', y='InerLen')\n",
    "#data1.plot.scatter(x='InerTime', y='InerLen')\n",
    "# data1.plot.scatter(x='RorL', y='Delay')\n",
    "#data1.plot.scatter(x='RorL', y='AllTime')\n",
    "data1.plot.scatter(x='BallSize', y='Delay')\n",
    "data1.plot.scatter(x='FirstDist', y='Delay')\n",
    "# data1.plot.scatter(x='BallSize', y='InerTime')\n",
    "# data1.plot.scatter(x='FirstDist', y='InerTime')\n",
    "#data1.plot.scatter(x='BallSize', y='Shots')\n",
    "#data1.plot.scatter(x='FirstDist', y='Shots')\n",
    "data1.plot.scatter(x='BallSize', y='AllTime')\n",
    "data1.plot.scatter(x='FirstDist', y='AllTime')\n",
    "#data1.plot.scatter(x='InerLen', y='Shots')\n",
    "#data1.plot.scatter(x='InerTime', y='Shots')"
   ]
  },
  {
   "cell_type": "code",
   "execution_count": 7,
   "metadata": {
    "collapsed": false
   },
   "outputs": [
    {
     "name": "stdout",
     "output_type": "stream",
     "text": [
      "InerLen      = 0.54318  + 0.134    * Size + 0.02      * Distantion\n",
      "MaxDev       = 21.608   + 0.32     * Size + 0.0448    * Distantion\n",
      "InerTime     = 35.905   + -0.0581  * Size + 0.0244    * Distantion\n",
      "AllDist      = 72.029   + -0.271   * Size + 1.09      * Distantion\n",
      "AverVelocity = 0.036215 + 0.0016   * Size + 0.001     * Distantion\n",
      "Shots        = 1.5448   + -0.00152 * Size + -0.000156 * Distantion\n",
      "Delay        = 362.43   + -0.39    * Size + -0.102    * Distantion\n",
      "AllTime      = 973.78   + -3.03    * Size + 0.38      * Distantion\n"
     ]
    }
   ],
   "source": [
    "from sklearn import linear_model\n",
    "pparams = ['AllDist', 'Delay', 'AllTime', 'AverVelocity', 'MaxDev', 'InerLen', 'InerTime', 'Shots']\n",
    "\n",
    "regs = {}\n",
    "for p in pparams:\n",
    "    regs[p] = linear_model.LinearRegression()\n",
    "    regs[p].fit(data1[['BallSize', 'FirstDist']], data1[p])\n",
    "\n",
    "def predict(size, dist):\n",
    "    for p in regs.keys():\n",
    "        print(p, \": \", regs[p].predict([size, dist])[0])\n",
    "        \n",
    "def print_regs():\n",
    "    for p in regs.keys():\n",
    "        print(\"{0:<12} = {1:<8.5} + {2:<8.3} * Size + {3:<9.3} * Distantion\".format(p, regs[p].intercept_, regs[p].coef_[0], regs[p].coef_[1]))\n",
    "\n",
    "print_regs()"
   ]
  },
  {
   "cell_type": "code",
   "execution_count": null,
   "metadata": {
    "collapsed": false,
    "scrolled": true
   },
   "outputs": [],
   "source": []
  },
  {
   "cell_type": "code",
   "execution_count": null,
   "metadata": {
    "collapsed": false,
    "scrolled": true
   },
   "outputs": [],
   "source": []
  },
  {
   "cell_type": "code",
   "execution_count": 8,
   "metadata": {
    "collapsed": false
   },
   "outputs": [
    {
     "name": "stdout",
     "output_type": "stream",
     "text": [
      "AllDist  :  -0.112081128814\n",
      "Delay  :  0.0100508459643\n",
      "AllTime  :  -0.086333771138\n",
      "AverVelocity  :  -0.104623984595\n",
      "MaxDev  :  -0.134595951175\n",
      "InerLen  :  -0.123790948141\n",
      "InerTime  :  -0.106976738295\n",
      "Shots  :  0.0432156371795\n",
      "RorL         = 0.066416 + 0.000454 * Size + 3.16e-05  * Distantion\n"
     ]
    }
   ],
   "source": [
    "for i in pparams:\n",
    "    print(i, \" : \", data1['RorL'].corr(data1[i], method='pearson'))\n",
    "    \n",
    "rorl = linear_model.LinearRegression()\n",
    "\n",
    "p = \"RorL\"\n",
    "\n",
    "rorl.fit(data1[['BallSize', 'FirstDist']], data1[p])\n",
    "\n",
    "print(\"{0:<12} = {1:<8.5} + {2:<8.3} * Size + {3:<9.3} * Distantion\".format(p, rorl.intercept_, rorl.coef_[0], rorl.coef_[1]))"
   ]
  },
  {
   "cell_type": "code",
   "execution_count": 9,
   "metadata": {
    "collapsed": false
   },
   "outputs": [
    {
     "data": {
      "image/png": "[encoded data removed]",
      "text/plain": [
       "<matplotlib.figure.Figure at 0x7f0a8472a7b8>"
      ]
     },
     "metadata": {},
     "output_type": "display_data"
    }
   ],
   "source": [
    "import pandas as pd\n",
    "from pandas import DataFrame\n",
    "import matplotlib.pyplot as plt\n",
    "from mpl_toolkits.mplot3d import Axes3D\n",
    "\n",
    "threedee = plt.figure().gca(projection='3d')\n",
    "threedee.scatter(data1['BallSize'], data1['FirstDist'], data1['AllDist'])\n",
    "threedee.set_xlabel('BallSize')\n",
    "threedee.set_ylabel('FirstDist')\n",
    "threedee.set_zlabel('AllDist')\n",
    "plt.show()"
   ]
  },
  {
   "cell_type": "code",
   "execution_count": 10,
   "metadata": {
    "collapsed": false
   },
   "outputs": [],
   "source": [
    "load_all_tests(1)\n",
    "t = load_test(7)\n",
    "# print(average_velocity(t))\n",
    "#print(first_distance(t))\n",
    "# print(max_deviation_d(t))"
   ]
  },
  {
   "cell_type": "code",
   "execution_count": 16,
   "metadata": {
    "collapsed": false
   },
   "outputs": [
    {
     "data": {
      "text/html": [
       "<div>\n",
       "<table border=\"1\" class=\"dataframe\">\n",
       "  <thead>\n",
       "    <tr style=\"text-align: right;\">\n",
       "      <th></th>\n",
       "      <th>RBallX</th>\n",
       "      <th>RBallY</th>\n",
       "      <th>BallSize</th>\n",
       "      <th>FirstDist</th>\n",
       "      <th>BallVelocity</th>\n",
       "      <th>Correlation</th>\n",
       "      <th>AllDist</th>\n",
       "      <th>AllTime</th>\n",
       "      <th>AverVelocity</th>\n",
       "      <th>AbsMaxDev</th>\n",
       "      <th>UpOrDown</th>\n",
       "      <th>Delay</th>\n",
       "      <th>InerLen</th>\n",
       "      <th>InerTime</th>\n",
       "    </tr>\n",
       "  </thead>\n",
       "  <tbody>\n",
       "    <tr>\n",
       "      <th>0</th>\n",
       "      <td>601</td>\n",
       "      <td>144</td>\n",
       "      <td>178</td>\n",
       "      <td>618.010518</td>\n",
       "      <td>0.000000</td>\n",
       "      <td>1.0</td>\n",
       "      <td>895.353845</td>\n",
       "      <td>1086</td>\n",
       "      <td>0.824451</td>\n",
       "      <td>276.666142</td>\n",
       "      <td>1.0</td>\n",
       "      <td>249</td>\n",
       "      <td>0.000000</td>\n",
       "      <td>0</td>\n",
       "    </tr>\n",
       "    <tr>\n",
       "      <th>1</th>\n",
       "      <td>194</td>\n",
       "      <td>196</td>\n",
       "      <td>134</td>\n",
       "      <td>275.775271</td>\n",
       "      <td>0.485913</td>\n",
       "      <td>1.0</td>\n",
       "      <td>606.474158</td>\n",
       "      <td>3385</td>\n",
       "      <td>0.179165</td>\n",
       "      <td>278.887503</td>\n",
       "      <td>1.0</td>\n",
       "      <td>2787</td>\n",
       "      <td>0.000000</td>\n",
       "      <td>0</td>\n",
       "    </tr>\n",
       "    <tr>\n",
       "      <th>2</th>\n",
       "      <td>136</td>\n",
       "      <td>60</td>\n",
       "      <td>173</td>\n",
       "      <td>148.647233</td>\n",
       "      <td>0.326357</td>\n",
       "      <td>1.0</td>\n",
       "      <td>173.905121</td>\n",
       "      <td>702</td>\n",
       "      <td>0.247728</td>\n",
       "      <td>72.130501</td>\n",
       "      <td>1.0</td>\n",
       "      <td>403</td>\n",
       "      <td>0.000000</td>\n",
       "      <td>0</td>\n",
       "    </tr>\n",
       "    <tr>\n",
       "      <th>3</th>\n",
       "      <td>172</td>\n",
       "      <td>83</td>\n",
       "      <td>116</td>\n",
       "      <td>190.979056</td>\n",
       "      <td>0.284553</td>\n",
       "      <td>-1.0</td>\n",
       "      <td>109.319035</td>\n",
       "      <td>1529</td>\n",
       "      <td>0.071497</td>\n",
       "      <td>13.018922</td>\n",
       "      <td>-1.0</td>\n",
       "      <td>1345</td>\n",
       "      <td>0.000000</td>\n",
       "      <td>0</td>\n",
       "    </tr>\n",
       "    <tr>\n",
       "      <th>4</th>\n",
       "      <td>968</td>\n",
       "      <td>369</td>\n",
       "      <td>37</td>\n",
       "      <td>1035.946427</td>\n",
       "      <td>0.000000</td>\n",
       "      <td>1.0</td>\n",
       "      <td>1169.335063</td>\n",
       "      <td>2295</td>\n",
       "      <td>0.509514</td>\n",
       "      <td>91.107593</td>\n",
       "      <td>-1.0</td>\n",
       "      <td>270</td>\n",
       "      <td>92.617493</td>\n",
       "      <td>246</td>\n",
       "    </tr>\n",
       "    <tr>\n",
       "      <th>5</th>\n",
       "      <td>51</td>\n",
       "      <td>254</td>\n",
       "      <td>18</td>\n",
       "      <td>259.069489</td>\n",
       "      <td>0.105263</td>\n",
       "      <td>1.0</td>\n",
       "      <td>375.496310</td>\n",
       "      <td>2048</td>\n",
       "      <td>0.183348</td>\n",
       "      <td>27.945508</td>\n",
       "      <td>-1.0</td>\n",
       "      <td>348</td>\n",
       "      <td>90.426766</td>\n",
       "      <td>288</td>\n",
       "    </tr>\n",
       "    <tr>\n",
       "      <th>6</th>\n",
       "      <td>106</td>\n",
       "      <td>590</td>\n",
       "      <td>69</td>\n",
       "      <td>599.446411</td>\n",
       "      <td>0.235702</td>\n",
       "      <td>1.0</td>\n",
       "      <td>720.101978</td>\n",
       "      <td>3123</td>\n",
       "      <td>0.230580</td>\n",
       "      <td>34.267741</td>\n",
       "      <td>1.0</td>\n",
       "      <td>2110</td>\n",
       "      <td>0.000000</td>\n",
       "      <td>0</td>\n",
       "    </tr>\n",
       "    <tr>\n",
       "      <th>7</th>\n",
       "      <td>301</td>\n",
       "      <td>332</td>\n",
       "      <td>99</td>\n",
       "      <td>448.135024</td>\n",
       "      <td>0.181818</td>\n",
       "      <td>-1.0</td>\n",
       "      <td>364.162399</td>\n",
       "      <td>839</td>\n",
       "      <td>0.434043</td>\n",
       "      <td>46.256977</td>\n",
       "      <td>1.0</td>\n",
       "      <td>393</td>\n",
       "      <td>0.000000</td>\n",
       "      <td>0</td>\n",
       "    </tr>\n",
       "    <tr>\n",
       "      <th>8</th>\n",
       "      <td>27</td>\n",
       "      <td>125</td>\n",
       "      <td>81</td>\n",
       "      <td>127.882759</td>\n",
       "      <td>0.282843</td>\n",
       "      <td>-1.0</td>\n",
       "      <td>318.401298</td>\n",
       "      <td>1272</td>\n",
       "      <td>0.250315</td>\n",
       "      <td>98.978497</td>\n",
       "      <td>-1.0</td>\n",
       "      <td>259</td>\n",
       "      <td>138.452158</td>\n",
       "      <td>823</td>\n",
       "    </tr>\n",
       "    <tr>\n",
       "      <th>9</th>\n",
       "      <td>660</td>\n",
       "      <td>20</td>\n",
       "      <td>133</td>\n",
       "      <td>660.302961</td>\n",
       "      <td>0.235702</td>\n",
       "      <td>1.0</td>\n",
       "      <td>1165.458136</td>\n",
       "      <td>4339</td>\n",
       "      <td>0.268601</td>\n",
       "      <td>351.571392</td>\n",
       "      <td>-1.0</td>\n",
       "      <td>2729</td>\n",
       "      <td>0.000000</td>\n",
       "      <td>0</td>\n",
       "    </tr>\n",
       "  </tbody>\n",
       "</table>\n",
       "</div>"
      ],
      "text/plain": [
       "   RBallX  RBallY  BallSize    FirstDist  BallVelocity  Correlation  \\\n",
       "0     601     144       178   618.010518      0.000000          1.0   \n",
       "1     194     196       134   275.775271      0.485913          1.0   \n",
       "2     136      60       173   148.647233      0.326357          1.0   \n",
       "3     172      83       116   190.979056      0.284553         -1.0   \n",
       "4     968     369        37  1035.946427      0.000000          1.0   \n",
       "5      51     254        18   259.069489      0.105263          1.0   \n",
       "6     106     590        69   599.446411      0.235702          1.0   \n",
       "7     301     332        99   448.135024      0.181818         -1.0   \n",
       "8      27     125        81   127.882759      0.282843         -1.0   \n",
       "9     660      20       133   660.302961      0.235702          1.0   \n",
       "\n",
       "       AllDist  AllTime  AverVelocity   AbsMaxDev  UpOrDown  Delay  \\\n",
       "0   895.353845     1086      0.824451  276.666142       1.0    249   \n",
       "1   606.474158     3385      0.179165  278.887503       1.0   2787   \n",
       "2   173.905121      702      0.247728   72.130501       1.0    403   \n",
       "3   109.319035     1529      0.071497   13.018922      -1.0   1345   \n",
       "4  1169.335063     2295      0.509514   91.107593      -1.0    270   \n",
       "5   375.496310     2048      0.183348   27.945508      -1.0    348   \n",
       "6   720.101978     3123      0.230580   34.267741       1.0   2110   \n",
       "7   364.162399      839      0.434043   46.256977       1.0    393   \n",
       "8   318.401298     1272      0.250315   98.978497      -1.0    259   \n",
       "9  1165.458136     4339      0.268601  351.571392      -1.0   2729   \n",
       "\n",
       "      InerLen  InerTime  \n",
       "0    0.000000         0  \n",
       "1    0.000000         0  \n",
       "2    0.000000         0  \n",
       "3    0.000000         0  \n",
       "4   92.617493       246  \n",
       "5   90.426766       288  \n",
       "6    0.000000         0  \n",
       "7    0.000000         0  \n",
       "8  138.452158       823  \n",
       "9    0.000000         0  "
      ]
     },
     "execution_count": 16,
     "metadata": {},
     "output_type": "execute_result"
    }
   ],
   "source": [
    "from sklearn import svm\n",
    "\n",
    "data2 = get_test_data(2)\n",
    "data2corr = data2[data2.Correlation > 0]\n",
    "data2ncorr = data2[data2.Correlation < 0]\n",
    "data2iner = data2[data2.InerLen > 0]\n",
    "\n",
    "inerPercentage = len(data2iner)/len(data2)\n",
    "\n",
    "data2[:10]"
   ]
  },
  {
   "cell_type": "code",
   "execution_count": 12,
   "metadata": {
    "collapsed": false
   },
   "outputs": [
    {
     "name": "stdout",
     "output_type": "stream",
     "text": [
      "AverVelocity = 0.12273   + 0.00187   * Size + 0.000653  * Distantion + 0.233     * Velocity\n",
      "AbsMaxDev    = 89.506    + 0.188     * Size + 0.0527    * Distantion + -42.1     * Velocity\n",
      "AllDist      = 399.93    + -0.981    * Size + 1.01      * Distantion + -1.94e+02 * Velocity\n",
      "Delay        = 557.15    + -0.281    * Size + 0.6       * Distantion + -9.7e+02  * Velocity\n",
      "AllTime      = 1709.6    + -4.89     * Size + 0.952     * Distantion + -1.18e+03 * Velocity\n",
      "DevPos       = sign( 3.1226e-08 * RBallX + 2.8572e-09 * RBallY + 0.99999   )\n"
     ]
    }
   ],
   "source": [
    "# --- FOR CORRELATE ----\n",
    "pparamscorr = ['AllDist', 'Delay', 'AllTime', 'AverVelocity', 'AbsMaxDev']\n",
    "\n",
    "regscorr = {}\n",
    "for p in pparamscorr:\n",
    "    regscorr[p] = linear_model.LinearRegression()\n",
    "    regscorr[p].fit(data2corr[['BallSize', 'FirstDist', 'BallVelocity']], data2corr[p])\n",
    "    \n",
    "def print_regs_corr():\n",
    "    for p in regscorr.keys():\n",
    "        print(\"{0:<12} = {1:<9.5} + {2:<9.3} * Size + {3:<9.3} * Distantion + {4:<9.3} * Velocity\".format(p, regscorr[p].intercept_, regscorr[p].coef_[0], regscorr[p].coef_[1], regscorr[p].coef_[2]))\n",
    "\n",
    "devPos = svm.SVC(kernel='linear')\n",
    "devPos.fit(data2corr[['RBallX', 'RBallY']], data2corr['UpOrDown'])\n",
    "\n",
    "def print_dev_corr():\n",
    "    xx, yy = 0, 0\n",
    "    for i in range(len(devPos.dual_coef_[0])):\n",
    "        xx+=devPos.dual_coef_[0][i]*devPos.support_vectors_[i][0]\n",
    "        yy+=devPos.dual_coef_[0][i]*devPos.support_vectors_[i][1]\n",
    "    print(\"DevPos       = sign( {0:<9.5} * RBallX + {1:<9.5} * RBallY + {2:<9.5} )\".format(xx, yy, devPos.intercept_[0]))\n",
    "\n",
    "print_regs_corr()\n",
    "print_dev_corr()"
   ]
  },
  {
   "cell_type": "code",
   "execution_count": 13,
   "metadata": {
    "collapsed": false
   },
   "outputs": [
    {
     "name": "stdout",
     "output_type": "stream",
     "text": [
      "AverVelocity = 0.27987   + 0.00178   * Size + 0.000778  * Distantion + -0.242    * Velocity\n",
      "AbsMaxDev    = 122.96    + 0.0173    * Size + 0.024     * Distantion + -23.9     * Velocity\n",
      "AllDist      = 360.8     + -1.24     * Size + 0.936     * Distantion + 3.04e+02  * Velocity\n",
      "Delay        = 219.67    + -0.579    * Size + 0.323     * Distantion + 7.05e+02  * Velocity\n",
      "AllTime      = 1248.7    + -4.75     * Size + 0.468     * Distantion + 1.07e+03  * Velocity\n",
      "DevPos       = sign( -8.7732e-09 * RBallX + 1.2723e-08 * RBallY + 1.0       )\n"
     ]
    }
   ],
   "source": [
    "# --- FOR NOT CORRELATE ----\n",
    "pparamsncorr = ['AllDist', 'Delay', 'AllTime', 'AverVelocity', 'AbsMaxDev']\n",
    "\n",
    "regsncorr = {}\n",
    "for p in pparamsncorr:\n",
    "    regsncorr[p] = linear_model.LinearRegression()\n",
    "    regsncorr[p].fit(data2ncorr[['BallSize', 'FirstDist', 'BallVelocity']], data2ncorr[p])\n",
    "    \n",
    "def print_regs_ncorr():\n",
    "    for p in regsncorr.keys():\n",
    "        print(\"{0:<12} = {1:<9.5} + {2:<9.3} * Size + {3:<9.3} * Distantion + {4:<9.3} * Velocity\".format(p, regsncorr[p].intercept_, regsncorr[p].coef_[0], regsncorr[p].coef_[1], regsncorr[p].coef_[2]))\n",
    "\n",
    "devPos = svm.SVC(kernel='linear')\n",
    "devPos.fit(data2ncorr[['RBallX', 'RBallY']], data2ncorr['UpOrDown'])\n",
    "\n",
    "def print_dev_ncorr():\n",
    "    xx, yy = 0, 0\n",
    "    for i in range(len(devPos.dual_coef_[0])):\n",
    "        xx+=devPos.dual_coef_[0][i]*devPos.support_vectors_[i][0]\n",
    "        yy+=devPos.dual_coef_[0][i]*devPos.support_vectors_[i][1]\n",
    "    print(\"DevPos       = sign( {0:<9.5} * RBallX + {1:<9.5} * RBallY + {2:<9.5} )\".format(xx, yy, devPos.intercept_[0]))\n",
    "\n",
    "print_regs_ncorr()\n",
    "print_dev_ncorr()\n"
   ]
  },
  {
   "cell_type": "code",
   "execution_count": 14,
   "metadata": {
    "collapsed": false
   },
   "outputs": [
    {
     "name": "stdout",
     "output_type": "stream",
     "text": [
      "Inertion percentage:  0.2963562753036437\n",
      "InerLen      = 52.619    + 1.26      * Size + 0.015     * Distantion + -28.5     * Velocity\n",
      "InerTime     = 263.72    + -0.231    * Size + 0.0629    * Distantion + -1.12e+02 * Velocity\n"
     ]
    }
   ],
   "source": [
    "pparamsiner = ['InerTime', 'InerLen']\n",
    "\n",
    "regsiner = {}\n",
    "for p in pparamsiner:\n",
    "    regsiner[p] = linear_model.LinearRegression()\n",
    "    regsiner[p].fit(data2iner[['BallSize', 'FirstDist', 'BallVelocity']], data2iner[p])\n",
    "    \n",
    "print(\"Inertion percentage: \", inerPercentage)\n",
    "for p in regsiner.keys():\n",
    "        print(\"{0:<12} = {1:<9.5} + {2:<9.3} * Size + {3:<9.3} * Distantion + {4:<9.3} * Velocity\".format(p, regsiner[p].intercept_, regsiner[p].coef_[0], regsiner[p].coef_[1], regsiner[p].coef_[2]))"
   ]
  },
  {
   "cell_type": "code",
   "execution_count": 21,
   "metadata": {
    "collapsed": false
   },
   "outputs": [
    {
     "data": {
      "text/plain": [
       "<matplotlib.legend.Legend at 0x7f0a750e1748>"
      ]
     },
     "execution_count": 21,
     "metadata": {},
     "output_type": "execute_result"
    },
    {
     "data": {
      "image/png": "[encoded data removed]",
      "text/plain": [
       "<matplotlib.figure.Figure at 0x7f0a750edd68>"
      ]
     },
     "metadata": {},
     "output_type": "display_data"
    }
   ],
   "source": [
    "cond = data2.UpOrDown > 0\n",
    "subset_a = data2[cond].dropna()\n",
    "subset_b = data2[~cond].dropna()\n",
    "plt.scatter(subset_a.RBallX, subset_a.RBallY, s=60, c='b', label='Up')\n",
    "plt.scatter(subset_b.RBallX, subset_b.RBallY, s=60, c='r', label='Down') \n",
    "plt.legend()"
   ]
  },
  {
   "cell_type": "code",
   "execution_count": null,
   "metadata": {
    "collapsed": true
   },
   "outputs": [],
   "source": []
  },
  {
   "cell_type": "code",
   "execution_count": null,
   "metadata": {
    "collapsed": true
   },
   "outputs": [],
   "source": []
  },
  {
   "cell_type": "code",
   "execution_count": null,
   "metadata": {
    "collapsed": true
   },
   "outputs": [],
   "source": []
  },
  {
   "cell_type": "code",
   "execution_count": null,
   "metadata": {
    "collapsed": true
   },
   "outputs": [],
   "source": []
  },
  {
   "cell_type": "code",
   "execution_count": null,
   "metadata": {
    "collapsed": true
   },
   "outputs": [],
   "source": []
  },
  {
   "cell_type": "code",
   "execution_count": null,
   "metadata": {
    "collapsed": true
   },
   "outputs": [],
   "source": []
  },
  {
   "cell_type": "code",
   "execution_count": null,
   "metadata": {
    "collapsed": true
   },
   "outputs": [],
   "source": []
  },
  {
   "cell_type": "code",
   "execution_count": null,
   "metadata": {
    "collapsed": true
   },
   "outputs": [],
   "source": []
  },
  {
   "cell_type": "code",
   "execution_count": null,
   "metadata": {
    "collapsed": true
   },
   "outputs": [],
   "source": []
  },
  {
   "cell_type": "code",
   "execution_count": null,
   "metadata": {
    "collapsed": true
   },
   "outputs": [],
   "source": []
  },
  {
   "cell_type": "code",
   "execution_count": null,
   "metadata": {
    "collapsed": true
   },
   "outputs": [],
   "source": []
  },
  {
   "cell_type": "code",
   "execution_count": null,
   "metadata": {
    "collapsed": true
   },
   "outputs": [],
   "source": []
  },
  {
   "cell_type": "code",
   "execution_count": null,
   "metadata": {
    "collapsed": true
   },
   "outputs": [],
   "source": []
  },
  {
   "cell_type": "code",
   "execution_count": null,
   "metadata": {
    "collapsed": true
   },
   "outputs": [],
   "source": []
  },
  {
   "cell_type": "code",
   "execution_count": null,
   "metadata": {
    "collapsed": true
   },
   "outputs": [],
   "source": []
  },
  {
   "cell_type": "code",
   "execution_count": null,
   "metadata": {
    "collapsed": true
   },
   "outputs": [],
   "source": []
  },
  {
   "cell_type": "code",
   "execution_count": null,
   "metadata": {
    "collapsed": true
   },
   "outputs": [],
   "source": []
  },
  {
   "cell_type": "code",
   "execution_count": null,
   "metadata": {
    "collapsed": true
   },
   "outputs": [],
   "source": []
  },
  {
   "cell_type": "code",
   "execution_count": null,
   "metadata": {
    "collapsed": true
   },
   "outputs": [],
   "source": []
  },
  {
   "cell_type": "code",
   "execution_count": null,
   "metadata": {
    "collapsed": true
   },
   "outputs": [],
   "source": []
  },
  {
   "cell_type": "code",
   "execution_count": null,
   "metadata": {
    "collapsed": true
   },
   "outputs": [],
   "source": []
  },
  {
   "cell_type": "code",
   "execution_count": null,
   "metadata": {
    "collapsed": true
   },
   "outputs": [],
   "source": []
  },
  {
   "cell_type": "code",
   "execution_count": null,
   "metadata": {
    "collapsed": true
   },
   "outputs": [],
   "source": []
  }
 ],
 "metadata": {
  "kernelspec": {
   "display_name": "Python 3",
   "language": "python",
   "name": "python3"
  },
  "language_info": {
   "codemirror_mode": {
    "name": "ipython",
    "version": 3
   },
   "file_extension": ".py",
   "mimetype": "text/x-python",
   "name": "python",
   "nbconvert_exporter": "python",
   "pygments_lexer": "ipython3",
   "version": "3.5.1"
  }
 },
 "nbformat": 4,
 "nbformat_minor": 0
}
